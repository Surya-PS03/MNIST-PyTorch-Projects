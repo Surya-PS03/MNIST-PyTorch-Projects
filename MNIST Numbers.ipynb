{
  "nbformat": 4,
  "nbformat_minor": 0,
  "metadata": {
    "colab": {
      "provenance": [],
      "gpuType": "T4",
      "mount_file_id": "1tLAY3zobBzNbXszwdC6w447x_MiK8iwj",
      "authorship_tag": "ABX9TyMVyrRmgJxTphvPsswfEfL2"
    },
    "kernelspec": {
      "name": "python3",
      "display_name": "Python 3"
    },
    "language_info": {
      "name": "python"
    },
    "accelerator": "GPU"
  },
  "cells": [
    {
      "cell_type": "code",
      "execution_count": 1,
      "metadata": {
        "id": "elNh2k231uZQ"
      },
      "outputs": [],
      "source": [
        "import torch\n",
        "from torchvision import datasets, transforms\n",
        "from torch.utils.data import DataLoader\n",
        "import torch.nn.functional as F\n",
        "from torch import optim\n",
        "import matplotlib.pyplot as plt"
      ]
    },
    {
      "cell_type": "code",
      "source": [
        "pipeline  = transforms.Compose([transforms.ToTensor(),transforms.Normalize((0.5,),(0.5,))])"
      ],
      "metadata": {
        "id": "qYMp3K-53C0D"
      },
      "execution_count": 2,
      "outputs": []
    },
    {
      "cell_type": "code",
      "source": [
        "train_dataset = datasets.MNIST( './data',train = True,transform = pipeline,download=True )\n",
        "test_dataset = datasets.MNIST('./data',train = False,transform = pipeline,download=True)"
      ],
      "metadata": {
        "colab": {
          "base_uri": "https://localhost:8080/"
        },
        "id": "UChkarHO2Tr2",
        "outputId": "59008494-7b6b-49a1-ded8-7b1b8d5db526"
      },
      "execution_count": 3,
      "outputs": [
        {
          "output_type": "stream",
          "name": "stdout",
          "text": [
            "Downloading http://yann.lecun.com/exdb/mnist/train-images-idx3-ubyte.gz\n",
            "Failed to download (trying next):\n",
            "HTTP Error 403: Forbidden\n",
            "\n",
            "Downloading https://ossci-datasets.s3.amazonaws.com/mnist/train-images-idx3-ubyte.gz\n",
            "Downloading https://ossci-datasets.s3.amazonaws.com/mnist/train-images-idx3-ubyte.gz to ./data/MNIST/raw/train-images-idx3-ubyte.gz\n"
          ]
        },
        {
          "output_type": "stream",
          "name": "stderr",
          "text": [
            "100%|██████████| 9.91M/9.91M [00:02<00:00, 4.15MB/s]\n"
          ]
        },
        {
          "output_type": "stream",
          "name": "stdout",
          "text": [
            "Extracting ./data/MNIST/raw/train-images-idx3-ubyte.gz to ./data/MNIST/raw\n",
            "\n",
            "Downloading http://yann.lecun.com/exdb/mnist/train-labels-idx1-ubyte.gz\n",
            "Failed to download (trying next):\n",
            "HTTP Error 403: Forbidden\n",
            "\n",
            "Downloading https://ossci-datasets.s3.amazonaws.com/mnist/train-labels-idx1-ubyte.gz\n",
            "Downloading https://ossci-datasets.s3.amazonaws.com/mnist/train-labels-idx1-ubyte.gz to ./data/MNIST/raw/train-labels-idx1-ubyte.gz\n"
          ]
        },
        {
          "output_type": "stream",
          "name": "stderr",
          "text": [
            "100%|██████████| 28.9k/28.9k [00:00<00:00, 131kB/s]\n"
          ]
        },
        {
          "output_type": "stream",
          "name": "stdout",
          "text": [
            "Extracting ./data/MNIST/raw/train-labels-idx1-ubyte.gz to ./data/MNIST/raw\n",
            "\n",
            "Downloading http://yann.lecun.com/exdb/mnist/t10k-images-idx3-ubyte.gz\n",
            "Failed to download (trying next):\n",
            "HTTP Error 403: Forbidden\n",
            "\n",
            "Downloading https://ossci-datasets.s3.amazonaws.com/mnist/t10k-images-idx3-ubyte.gz\n",
            "Downloading https://ossci-datasets.s3.amazonaws.com/mnist/t10k-images-idx3-ubyte.gz to ./data/MNIST/raw/t10k-images-idx3-ubyte.gz\n"
          ]
        },
        {
          "output_type": "stream",
          "name": "stderr",
          "text": [
            "100%|██████████| 1.65M/1.65M [00:01<00:00, 1.25MB/s]\n"
          ]
        },
        {
          "output_type": "stream",
          "name": "stdout",
          "text": [
            "Extracting ./data/MNIST/raw/t10k-images-idx3-ubyte.gz to ./data/MNIST/raw\n",
            "\n",
            "Downloading http://yann.lecun.com/exdb/mnist/t10k-labels-idx1-ubyte.gz\n",
            "Failed to download (trying next):\n",
            "HTTP Error 403: Forbidden\n",
            "\n",
            "Downloading https://ossci-datasets.s3.amazonaws.com/mnist/t10k-labels-idx1-ubyte.gz\n",
            "Downloading https://ossci-datasets.s3.amazonaws.com/mnist/t10k-labels-idx1-ubyte.gz to ./data/MNIST/raw/t10k-labels-idx1-ubyte.gz\n"
          ]
        },
        {
          "output_type": "stream",
          "name": "stderr",
          "text": [
            "100%|██████████| 4.54k/4.54k [00:00<00:00, 3.56MB/s]"
          ]
        },
        {
          "output_type": "stream",
          "name": "stdout",
          "text": [
            "Extracting ./data/MNIST/raw/t10k-labels-idx1-ubyte.gz to ./data/MNIST/raw\n",
            "\n"
          ]
        },
        {
          "output_type": "stream",
          "name": "stderr",
          "text": [
            "\n"
          ]
        }
      ]
    },
    {
      "cell_type": "code",
      "source": [
        "train_loader = DataLoader(train_dataset,batch_size = 64,shuffle = True)\n",
        "test_loader = DataLoader(test_dataset,batch_size = 64,shuffle = True)"
      ],
      "metadata": {
        "id": "OnDm-KEp3XZD"
      },
      "execution_count": 4,
      "outputs": []
    },
    {
      "cell_type": "code",
      "source": [
        "class Network(torch.nn.Module):\n",
        "  def __init__(self):\n",
        "    super().__init__()\n",
        "    self.hidden1 = torch.nn.Linear(784,512)\n",
        "    self.hidden2 = torch.nn.Linear(512,256)\n",
        "    self.hidden3 = torch.nn.Linear(256,128)\n",
        "    self.output = torch.nn.Linear(128,10)\n",
        "    self.dropout = torch.nn.Dropout(p=0.2)\n",
        "  def forward(self,x):\n",
        "\n",
        "    x = self.dropout(F.relu(self.hidden1(x)))\n",
        "    x = self.dropout(F.relu(self.hidden2(x)))\n",
        "    x = self.dropout(F.relu(self.hidden3(x)))\n",
        "    x = F.log_softmax(self.output(x),dim=1)\n",
        "    return x"
      ],
      "metadata": {
        "id": "TVpWJVa94PvQ"
      },
      "execution_count": 19,
      "outputs": []
    },
    {
      "cell_type": "code",
      "source": [
        "#defining Model\n",
        "model = Network()"
      ],
      "metadata": {
        "id": "JY0vzfO9kljk"
      },
      "execution_count": 20,
      "outputs": []
    },
    {
      "cell_type": "code",
      "source": [
        "#loss function\n",
        "loss = torch.nn.NLLLoss()"
      ],
      "metadata": {
        "id": "GXQixtkMDi8v"
      },
      "execution_count": 13,
      "outputs": []
    },
    {
      "cell_type": "code",
      "source": [
        "#Optimizer function\n",
        "optimizer = optim.SGD(model.parameters(), 0.01)"
      ],
      "metadata": {
        "id": "OHzgIsUqkb5g"
      },
      "execution_count": 21,
      "outputs": []
    },
    {
      "cell_type": "code",
      "source": [
        "epochs = 16\n",
        "tloss = []\n",
        "vloss = []\n",
        "for e in range(epochs):\n",
        "  running_loss = 0\n",
        "  accuracy = 0\n",
        "  for image,label in(train_loader):\n",
        "    flat_img = image.view(image.shape[0],-1)\n",
        "    output = model.forward(flat_img)\n",
        "\n",
        "    #removing previous grads\n",
        "    optimizer.zero_grad()\n",
        "\n",
        "    #loss\n",
        "    error = loss(output,label)\n",
        "\n",
        "    #backpropogation\n",
        "    error.backward()\n",
        "\n",
        "    #optimization\n",
        "    optimizer.step()\n",
        "\n",
        "    running_loss +=error.item()\n",
        "  else:\n",
        "    test_loss = 0\n",
        "    model.eval()\n",
        "    with torch.no_grad():\n",
        "      for image,label in(test_loader):\n",
        "        flat_img = image.view(image.shape[0],-1)\n",
        "        output = model.forward(flat_img)\n",
        "        error = loss(output,label)\n",
        "        test_loss +=error.item()\n",
        "        ps = torch.exp(output)\n",
        "        top_p, top_class = ps.topk(1, dim=1)\n",
        "        equals = top_class == label.view(*top_class.shape)\n",
        "        accuracy += torch.mean(equals.type(torch.FloatTensor))\n",
        "    model.train()\n",
        "  tloss.append(running_loss/len(train_loader))\n",
        "  vloss.append(test_loss/len(test_loader))\n",
        "  print(f\"Epoch {e+1}/{epochs}.. Training Loss: {running_loss/len(train_loader)}.. Test Loss: {test_loss/len(test_loader)}\")\n",
        "  print(\"Accuracy: \",accuracy/len(test_loader))"
      ],
      "metadata": {
        "colab": {
          "base_uri": "https://localhost:8080/"
        },
        "id": "_B5CHtipkwb9",
        "outputId": "d9777924-837c-4e0f-9bf1-3b4111da8cc0"
      },
      "execution_count": 22,
      "outputs": [
        {
          "output_type": "stream",
          "name": "stdout",
          "text": [
            "Epoch 1/16.. Training Loss: 1.5503560595357342.. Test Loss: 0.5728949955694235\n",
            "Accuracy:  tensor(0.8393)\n",
            "Epoch 2/16.. Training Loss: 0.5357169522754928.. Test Loss: 0.3443749830316586\n",
            "Accuracy:  tensor(0.8988)\n",
            "Epoch 3/16.. Training Loss: 0.40111171225431375.. Test Loss: 0.28893612439085725\n",
            "Accuracy:  tensor(0.9130)\n",
            "Epoch 4/16.. Training Loss: 0.33774530862980306.. Test Loss: 0.24651861703319913\n",
            "Accuracy:  tensor(0.9269)\n",
            "Epoch 5/16.. Training Loss: 0.2918134624325136.. Test Loss: 0.21542310728958458\n",
            "Accuracy:  tensor(0.9364)\n",
            "Epoch 6/16.. Training Loss: 0.25422214208317717.. Test Loss: 0.19574093408170778\n",
            "Accuracy:  tensor(0.9411)\n",
            "Epoch 7/16.. Training Loss: 0.2259657736986812.. Test Loss: 0.17579781962855226\n",
            "Accuracy:  tensor(0.9491)\n",
            "Epoch 8/16.. Training Loss: 0.20408275547915938.. Test Loss: 0.16007574673765784\n",
            "Accuracy:  tensor(0.9525)\n",
            "Epoch 9/16.. Training Loss: 0.1850358227939049.. Test Loss: 0.13992914130353623\n",
            "Accuracy:  tensor(0.9572)\n",
            "Epoch 10/16.. Training Loss: 0.16729150084592004.. Test Loss: 0.1339729601980015\n",
            "Accuracy:  tensor(0.9595)\n",
            "Epoch 11/16.. Training Loss: 0.15558133545174782.. Test Loss: 0.12505097987403155\n",
            "Accuracy:  tensor(0.9621)\n",
            "Epoch 12/16.. Training Loss: 0.14641189895697368.. Test Loss: 0.1157367609702288\n",
            "Accuracy:  tensor(0.9654)\n",
            "Epoch 13/16.. Training Loss: 0.1364036517511648.. Test Loss: 0.10865582882835986\n",
            "Accuracy:  tensor(0.9681)\n",
            "Epoch 14/16.. Training Loss: 0.1295762830989749.. Test Loss: 0.10697307514180993\n",
            "Accuracy:  tensor(0.9672)\n",
            "Epoch 15/16.. Training Loss: 0.11942170896549532.. Test Loss: 0.09969364456642585\n",
            "Accuracy:  tensor(0.9693)\n",
            "Epoch 16/16.. Training Loss: 0.11427456693801243.. Test Loss: 0.09403522595597111\n",
            "Accuracy:  tensor(0.9707)\n"
          ]
        }
      ]
    },
    {
      "cell_type": "code",
      "source": [
        "plt.plot(tloss,label='Training Loss')\n",
        "plt.plot(vloss,label='Validation Loss')\n",
        "plt.legend()"
      ],
      "metadata": {
        "id": "AOWMtdzzYkpz",
        "outputId": "4b009de5-4e4f-45da-efc7-75e4dfc258c4",
        "colab": {
          "base_uri": "https://localhost:8080/",
          "height": 447
        }
      },
      "execution_count": 23,
      "outputs": [
        {
          "output_type": "execute_result",
          "data": {
            "text/plain": [
              "<matplotlib.legend.Legend at 0x7e288a58a380>"
            ]
          },
          "metadata": {},
          "execution_count": 23
        },
        {
          "output_type": "display_data",
          "data": {
            "text/plain": [
              "<Figure size 640x480 with 1 Axes>"
            ],
            "image/png": "[encoded data removed]"
          },
          "metadata": {}
        }
      ]
    },
    {
      "cell_type": "code",
      "source": [
        "import matplotlib.pyplot as plt\n",
        "import numpy as np\n",
        "\n",
        "def view_classify(img, ps):\n",
        "    \"\"\"Visualizes an image and its predicted probabilities.\"\"\"\n",
        "    ps = ps.detach().numpy().squeeze()\n",
        "\n",
        "    fig, (ax1, ax2) = plt.subplots(figsize=(6, 9), nrows=2)\n",
        "    ax1.imshow(img.squeeze(), cmap='gray')\n",
        "    ax1.axis('off')\n",
        "    ax2.barh(np.arange(len(ps)), ps)\n",
        "    ax2.set_aspect(0.1)\n",
        "    ax2.set_yticks(np.arange(len(ps)))\n",
        "    ax2.set_yticklabels(np.arange(len(ps)))\n",
        "    ax2.set_title('Class Probability')\n",
        "    ax2.set_xlim(0, 1.1)\n",
        "    plt.tight_layout()\n"
      ],
      "metadata": {
        "id": "2fzu6NOrpebV"
      },
      "execution_count": 24,
      "outputs": []
    },
    {
      "cell_type": "code",
      "source": [
        "%matplotlib inline\n",
        "images, labels = next(iter(test_loader))\n",
        "img = images[1].view(1,784)\n",
        "with torch.no_grad():\n",
        "  logps = model(img)\n",
        "ps = F.softmax(logps,dim=1)\n",
        "\n",
        "view_classify(img.view(1,28,28),ps)"
      ],
      "metadata": {
        "colab": {
          "base_uri": "https://localhost:8080/",
          "height": 907
        },
        "id": "BmT7mSDpDPoE",
        "outputId": "0441068e-d7f0-41d9-be04-006ae52275d5"
      },
      "execution_count": 26,
      "outputs": [
        {
          "output_type": "display_data",
          "data": {
            "text/plain": [
              "<Figure size 600x900 with 2 Axes>"
            ],
            "image/png": "[encoded data removed]"
          },
          "metadata": {}
        }
      ]
    },
    {
      "cell_type": "code",
      "source": [],
      "metadata": {
        "id": "YCHx5jpaDQax"
      },
      "execution_count": null,
      "outputs": []
    }
  ]
}